{
 "cells": [
  {
   "cell_type": "code",
   "execution_count": 1,
   "metadata": {},
   "outputs": [],
   "source": [
    "from bs4 import BeautifulSoup\n",
    "\n",
    "import requests\n",
    "\n",
    "import pandas as pd\n",
    "\n",
    "import re"
   ]
  },
  {
   "cell_type": "code",
   "execution_count": 2,
   "metadata": {},
   "outputs": [],
   "source": [
    "wiki_url = 'https://en.wikipedia.org/wiki/COVID-19_pandemic_by_country_and_territory'\n",
    "table_id = 'thetable'\n",
    "response=requests.get(wiki_url)\n",
    "soup = BeautifulSoup(response.text, 'html.parser')"
   ]
  },
  {
   "cell_type": "code",
   "execution_count": 3,
   "metadata": {},
   "outputs": [],
   "source": [
    "covidtable = soup.find('table', attrs={'id':table_id})\n",
    "df = pd.read_html(str(covidtable))\n",
    "df = pd.DataFrame(df[0])"
   ]
  },
  {
   "cell_type": "code",
   "execution_count": 4,
   "metadata": {},
   "outputs": [
    {
     "name": "stdout",
     "output_type": "stream",
     "text": [
      "         Location[a]                       Cases[b] Deaths[c]  Recov.[d]  \\\n",
      "  Unnamed: 0_level_1           World[e] 102,303,716 2,212,694 56,584,997   \n",
      "0                NaN   United States[f]    26208291    442046   11166500   \n",
      "1                NaN              India    10733131    154147   10409160   \n",
      "2                NaN             Brazil     9130790    222926    7960643   \n",
      "3                NaN          Russia[g]     3832080     72697    3837550   \n",
      "4                NaN  United Kingdom[h]     3796088    105571    No data   \n",
      "\n",
      "       Ref.  \n",
      "        [4]  \n",
      "0      [16]  \n",
      "1      [17]  \n",
      "2  [18][19]  \n",
      "3      [20]  \n",
      "4      [22]  \n"
     ]
    }
   ],
   "source": [
    "print(df.head())"
   ]
  },
  {
   "cell_type": "code",
   "execution_count": 5,
   "metadata": {},
   "outputs": [
    {
     "name": "stdout",
     "output_type": "stream",
     "text": [
      "         Location[a]    Cases[b] Deaths[c]  Recov.[d]\n",
      "            World[e] 102,303,716 2,212,694 56,584,997\n",
      "0   United States[f]    26208291    442046   11166500\n",
      "1              India    10733131    154147   10409160\n",
      "2             Brazil     9130790    222926    7960643\n",
      "3          Russia[g]     3832080     72697    3837550\n",
      "4  United Kingdom[h]     3796088    105571    No data\n"
     ]
    }
   ],
   "source": [
    "#now we clean the data. First by removing the Reference column then by removing the \"NaN\" value which resulted from the images on Wikipedia\n",
    "del df[\"Ref.\"]\n",
    "\n",
    "df = df.drop([238,239])\n",
    "df = df.dropna(1)\n",
    "\n",
    "print(df.head())"
   ]
  },
  {
   "cell_type": "code",
   "execution_count": 6,
   "metadata": {},
   "outputs": [
    {
     "name": "stdout",
     "output_type": "stream",
     "text": [
      "      Location[a]    Cases[b] Deaths[c]  Recov.[d]\n",
      "         World[e] 102,303,716 2,212,694 56,584,997\n",
      "0   United States    26208291    442046   11166500\n",
      "1           India    10733131    154147   10409160\n",
      "2          Brazil     9130790    222926    7960643\n",
      "3          Russia     3832080     72697    3837550\n",
      "4  United Kingdom     3796088    105571    No data\n"
     ]
    }
   ],
   "source": [
    "#the references (little letters in brackets) were a little annoying to remove, but it was possible to do so by using regular expressions (regex)\n",
    "df = df.replace(\"\\[(.*?]*)\\]\", \"\", regex=True)\n",
    "print(df.head())"
   ]
  },
  {
   "cell_type": "code",
   "execution_count": 7,
   "metadata": {},
   "outputs": [
    {
     "data": {
      "text/html": [
       "<div>\n",
       "<style scoped>\n",
       "    .dataframe tbody tr th:only-of-type {\n",
       "        vertical-align: middle;\n",
       "    }\n",
       "\n",
       "    .dataframe tbody tr th {\n",
       "        vertical-align: top;\n",
       "    }\n",
       "\n",
       "    .dataframe thead th {\n",
       "        text-align: right;\n",
       "    }\n",
       "</style>\n",
       "<table border=\"1\" class=\"dataframe\">\n",
       "  <thead>\n",
       "    <tr style=\"text-align: right;\">\n",
       "      <th></th>\n",
       "      <th>Location</th>\n",
       "      <th>Cases</th>\n",
       "      <th>Deaths</th>\n",
       "      <th>Recovery</th>\n",
       "    </tr>\n",
       "  </thead>\n",
       "  <tbody>\n",
       "    <tr>\n",
       "      <th>0</th>\n",
       "      <td>United States</td>\n",
       "      <td>26208291</td>\n",
       "      <td>442046</td>\n",
       "      <td>11166500</td>\n",
       "    </tr>\n",
       "    <tr>\n",
       "      <th>1</th>\n",
       "      <td>India</td>\n",
       "      <td>10733131</td>\n",
       "      <td>154147</td>\n",
       "      <td>10409160</td>\n",
       "    </tr>\n",
       "    <tr>\n",
       "      <th>2</th>\n",
       "      <td>Brazil</td>\n",
       "      <td>9130790</td>\n",
       "      <td>222926</td>\n",
       "      <td>7960643</td>\n",
       "    </tr>\n",
       "    <tr>\n",
       "      <th>3</th>\n",
       "      <td>Russia</td>\n",
       "      <td>3832080</td>\n",
       "      <td>72697</td>\n",
       "      <td>3837550</td>\n",
       "    </tr>\n",
       "    <tr>\n",
       "      <th>4</th>\n",
       "      <td>United Kingdom</td>\n",
       "      <td>3796088</td>\n",
       "      <td>105571</td>\n",
       "      <td>No data</td>\n",
       "    </tr>\n",
       "  </tbody>\n",
       "</table>\n",
       "</div>"
      ],
      "text/plain": [
       "         Location     Cases  Deaths  Recovery\n",
       "0   United States  26208291  442046  11166500\n",
       "1           India  10733131  154147  10409160\n",
       "2          Brazil   9130790  222926   7960643\n",
       "3          Russia   3832080   72697   3837550\n",
       "4  United Kingdom   3796088  105571   No data"
      ]
     },
     "execution_count": 7,
     "metadata": {},
     "output_type": "execute_result"
    }
   ],
   "source": [
    "#now we rename the column names manually since references were not removed from them\n",
    "df.columns = ['Location', 'Cases', 'Deaths', 'Recovery']\n",
    "\n",
    "#While renaming, the \"world\" row vanished. But I deduced that it was because it actually part of the column name string since the \"[e]\" in \"World\" was not removed and because it did not have a row ID\n",
    "\n",
    "df.head()"
   ]
  },
  {
   "cell_type": "code",
   "execution_count": 8,
   "metadata": {},
   "outputs": [
    {
     "name": "stdout",
     "output_type": "stream",
     "text": [
      "                           Location     Cases   Deaths  Recovery\n",
      "0                     United States  26208291   442046  11166500\n",
      "1                             India  10733131   154147  10409160\n",
      "2                            Brazil   9130790   222926   7960643\n",
      "3                            Russia   3832080    72697   3837550\n",
      "4                    United Kingdom   3796088   105571   No data\n",
      "..                              ...       ...      ...       ...\n",
      "233                  American Samoa         4        0         3\n",
      "234                           Samoa         2        0         2\n",
      "235  Federated States of Micronesia         1        0         0\n",
      "236                         Vanuatu         1        0         1\n",
      "237                        Tanzania   No data  No data   No data\n",
      "\n",
      "[238 rows x 4 columns]\n"
     ]
    }
   ],
   "source": [
    "pd.option_context('display.max_rows', None, 'display.max_columns', None)\n",
    "print(df)"
   ]
  }
 ],
 "metadata": {
  "kernelspec": {
   "display_name": "Python 3",
   "language": "python",
   "name": "python3"
  },
  "language_info": {
   "codemirror_mode": {
    "name": "ipython",
    "version": 3
   },
   "file_extension": ".py",
   "mimetype": "text/x-python",
   "name": "python",
   "nbconvert_exporter": "python",
   "pygments_lexer": "ipython3",
   "version": "3.7.6"
  }
 },
 "nbformat": 4,
 "nbformat_minor": 4
}
